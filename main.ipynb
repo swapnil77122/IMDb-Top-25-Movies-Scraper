{
 "cells": [
  {
   "cell_type": "markdown",
   "metadata": {},
   "source": [
    "# Scraping the \"top 24 Movies\" page of IMDB"
   ]
  },
  {
   "cell_type": "code",
   "execution_count": 207,
   "metadata": {},
   "outputs": [],
   "source": [
    "import requests as rq\n",
    "from  bs4 import BeautifulSoup\n",
    "import re\n",
    "import pandas as pd"
   ]
  },
  {
   "cell_type": "code",
   "execution_count": 144,
   "metadata": {},
   "outputs": [],
   "source": [
    "url = r\"https://www.imdb.com/chart/top/?ref_=nv_mv_250\""
   ]
  },
  {
   "cell_type": "code",
   "execution_count": 145,
   "metadata": {},
   "outputs": [],
   "source": [
    "\n",
    "headers = {'User-Agent': 'Mozilla/5.0 (Windows NT 6.1; WOW64) AppleWebKit/537.36 (KHTML, like Gecko) Chrome/56.0.2924.76 Safari/537.36'} \n",
    "response = rq.get(url, headers=headers)\n"
   ]
  },
  {
   "cell_type": "code",
   "execution_count": 146,
   "metadata": {},
   "outputs": [],
   "source": [
    "soup=BeautifulSoup(response.content,\"html.parser\")"
   ]
  },
  {
   "cell_type": "code",
   "execution_count": 153,
   "metadata": {},
   "outputs": [],
   "source": [
    "movies = soup.find(\"ul\",class_=\"ipc-metadata-list\").find_all('li')"
   ]
  },
  {
   "cell_type": "code",
   "execution_count": 190,
   "metadata": {},
   "outputs": [],
   "source": [
    "#name and sno scraped\n",
    "sno , name = movies[0].find('h3',class_=\"ipc-title__text\").text.split('.')\n"
   ]
  },
  {
   "cell_type": "code",
   "execution_count": 201,
   "metadata": {},
   "outputs": [],
   "source": [
    "#year,duration,rating scraped\n",
    "year,duration,category = [ i.text for i in movies[0].find(\"div\",class_=\"cli-title-metadata\").find_all('span')]"
   ]
  },
  {
   "cell_type": "code",
   "execution_count": 206,
   "metadata": {},
   "outputs": [],
   "source": [
    "#Scraped imdb data\n",
    "imdb_rating = movies[0].find('span',class_=\"ipc-rating-star\").text[0:3]"
   ]
  },
  {
   "cell_type": "code",
   "execution_count": 208,
   "metadata": {},
   "outputs": [],
   "source": [
    "#bringing it all together\n",
    "data = {\"SNo\":[],\"Name\":[],\"year_of_release\":[],\"duration\":[],\"category\":[],\"imdb_rating\":[]}\n",
    "for movie in range(len(movies)):\n",
    "    sno , name = movies[movie].find('h3',class_=\"ipc-title__text\").text.split('.')\n",
    "    year,duration,category = [ j.text for j in movies[movie].find(\"div\",class_=\"cli-title-metadata\").find_all('span')]\n",
    "    imdb_rating = movies[movie].find('span',class_=\"ipc-rating-star\").text[0:3]\n",
    "    data['SNo'].append(sno)\n",
    "    data['Name'].append(name)\n",
    "    data['year_of_release'].append(year)\n",
    "    data['duration'].append(duration)\n",
    "    data['category'].append(category)\n",
    "    data['imdb_rating'].append(imdb_rating)"
   ]
  },
  {
   "cell_type": "code",
   "execution_count": 212,
   "metadata": {},
   "outputs": [
    {
     "data": {
      "text/html": [
       "<div>\n",
       "<style scoped>\n",
       "    .dataframe tbody tr th:only-of-type {\n",
       "        vertical-align: middle;\n",
       "    }\n",
       "\n",
       "    .dataframe tbody tr th {\n",
       "        vertical-align: top;\n",
       "    }\n",
       "\n",
       "    .dataframe thead th {\n",
       "        text-align: right;\n",
       "    }\n",
       "</style>\n",
       "<table border=\"1\" class=\"dataframe\">\n",
       "  <thead>\n",
       "    <tr style=\"text-align: right;\">\n",
       "      <th></th>\n",
       "      <th>SNo</th>\n",
       "      <th>Name</th>\n",
       "      <th>year_of_release</th>\n",
       "      <th>duration</th>\n",
       "      <th>category</th>\n",
       "      <th>imdb_rating</th>\n",
       "    </tr>\n",
       "  </thead>\n",
       "  <tbody>\n",
       "    <tr>\n",
       "      <th>0</th>\n",
       "      <td>1</td>\n",
       "      <td>The Shawshank Redemption</td>\n",
       "      <td>1994</td>\n",
       "      <td>2h 22m</td>\n",
       "      <td>A</td>\n",
       "      <td>9.3</td>\n",
       "    </tr>\n",
       "    <tr>\n",
       "      <th>1</th>\n",
       "      <td>2</td>\n",
       "      <td>The Godfather</td>\n",
       "      <td>1972</td>\n",
       "      <td>2h 55m</td>\n",
       "      <td>A</td>\n",
       "      <td>9.2</td>\n",
       "    </tr>\n",
       "    <tr>\n",
       "      <th>2</th>\n",
       "      <td>3</td>\n",
       "      <td>The Dark Knight</td>\n",
       "      <td>2008</td>\n",
       "      <td>2h 32m</td>\n",
       "      <td>UA</td>\n",
       "      <td>9.0</td>\n",
       "    </tr>\n",
       "    <tr>\n",
       "      <th>3</th>\n",
       "      <td>4</td>\n",
       "      <td>The Godfather: Part II</td>\n",
       "      <td>1974</td>\n",
       "      <td>3h 22m</td>\n",
       "      <td>A</td>\n",
       "      <td>9.0</td>\n",
       "    </tr>\n",
       "    <tr>\n",
       "      <th>4</th>\n",
       "      <td>5</td>\n",
       "      <td>12 Angry Men</td>\n",
       "      <td>1957</td>\n",
       "      <td>1h 36m</td>\n",
       "      <td>U</td>\n",
       "      <td>9.0</td>\n",
       "    </tr>\n",
       "  </tbody>\n",
       "</table>\n",
       "</div>"
      ],
      "text/plain": [
       "  SNo                       Name year_of_release duration category imdb_rating\n",
       "0   1   The Shawshank Redemption            1994   2h 22m        A         9.3\n",
       "1   2              The Godfather            1972   2h 55m        A         9.2\n",
       "2   3            The Dark Knight            2008   2h 32m       UA         9.0\n",
       "3   4     The Godfather: Part II            1974   3h 22m        A         9.0\n",
       "4   5               12 Angry Men            1957   1h 36m        U         9.0"
      ]
     },
     "execution_count": 212,
     "metadata": {},
     "output_type": "execute_result"
    }
   ],
   "source": [
    "#convert dictionary to dataframe \n",
    "df = pd.DataFrame(data)\n",
    "df.head()"
   ]
  },
  {
   "cell_type": "code",
   "execution_count": 213,
   "metadata": {},
   "outputs": [],
   "source": [
    "df.to_csv(\"/workspaces/Web_scraping_proj/data/movie_data.csv\")"
   ]
  }
 ],
 "metadata": {
  "kernelspec": {
   "display_name": "Python 3",
   "language": "python",
   "name": "python3"
  },
  "language_info": {
   "codemirror_mode": {
    "name": "ipython",
    "version": 3
   },
   "file_extension": ".py",
   "mimetype": "text/x-python",
   "name": "python",
   "nbconvert_exporter": "python",
   "pygments_lexer": "ipython3",
   "version": "3.10.13"
  }
 },
 "nbformat": 4,
 "nbformat_minor": 2
}
